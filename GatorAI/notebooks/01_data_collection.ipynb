{
  "cells": [
    {
      "cell_type": "code",
      "execution_count": null,
      "metadata": {},
      "outputs": [],
      "source": [
        "# 01 - Data Collection\n",
        "import pandas as pd\n",
        "from GatorAI.src.data.fetch_data import fetch_ohlc\n",
        "from GatorAI.src.data.utils import DEFAULT_TICKERS\n",
        "\n",
        "df = fetch_ohlc(DEFAULT_TICKERS, start='2015-01-01')\n",
        "df.head()"
      ]
    },
    {
      "cell_type": "code",
      "execution_count": null,
      "metadata": {},
      "outputs": [],
      "source": [
        "print(f\"Rows: {len(df):,}\")\n",
        "df.tail()"
      ]
    }
  ],
  "metadata": {
    "language_info": {
      "name": "python"
    }
  },
  "nbformat": 4,
  "nbformat_minor": 2
}
