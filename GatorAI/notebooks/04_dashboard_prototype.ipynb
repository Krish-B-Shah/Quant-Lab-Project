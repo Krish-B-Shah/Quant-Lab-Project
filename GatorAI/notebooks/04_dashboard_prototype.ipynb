{
  "cells": [
    {
      "cell_type": "code",
      "execution_count": null,
      "metadata": {},
      "outputs": [],
      "source": [
        "# 04 - Dashboard Prototype\n",
        "# Run from terminal: streamlit run src/dashboard/app.py\n",
        "\n",
        "\n"
      ]
    }
  ],
  "metadata": {
    "language_info": {
      "name": "python"
    }
  },
  "nbformat": 4,
  "nbformat_minor": 2
}
