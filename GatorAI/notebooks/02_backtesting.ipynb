{
  "cells": [
    {
      "cell_type": "code",
      "execution_count": null,
      "metadata": {},
      "outputs": [],
      "source": [
        "# 02 - Backtesting\n",
        "import pandas as pd\n",
        "from GatorAI.src.backtesting.backtest_engine import run_vectorized_backtest\n",
        "\n",
        "prices = pd.Series([100,101,103,102,105], index=pd.date_range('2020-01-01', periods=5))\n",
        "signal = pd.Series([0,1,1,0,1], index=prices.index)\n",
        "res = run_vectorized_backtest(prices, signal, cost_bps=1)\n",
        "res.stats\n"
      ]
    },
    {
      "cell_type": "code",
      "execution_count": null,
      "metadata": {},
      "outputs": [],
      "source": [
        "res.equity_curve.tail()\n"
      ]
    },
    {
      "cell_type": "code",
      "execution_count": null,
      "metadata": {},
      "outputs": [],
      "source": [
        "\n"
      ]
    },
    {
      "cell_type": "code",
      "execution_count": null,
      "metadata": {},
      "outputs": [],
      "source": [
        "\n"
      ]
    }
  ],
  "metadata": {
    "language_info": {
      "name": "python"
    }
  },
  "nbformat": 4,
  "nbformat_minor": 2
}
