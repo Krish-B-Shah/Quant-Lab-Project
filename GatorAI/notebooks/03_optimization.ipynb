{
  "cells": [
    {
      "cell_type": "code",
      "execution_count": null,
      "metadata": {},
      "outputs": [],
      "source": [
        "# 03 - Optimization\n",
        "import pandas as pd\n",
        "from GatorAI.src.optimization.optimizer import mean_variance_optimize\n",
        "\n",
        "ret = pd.DataFrame({\n",
        "\t\"SPY\": [0.01, -0.005, 0.002],\n",
        "\t\"QQQ\": [0.015, -0.01, 0.004],\n",
        "\t\"IWM\": [0.008, -0.007, 0.003],\n",
        "})\n",
        "weights = mean_variance_optimize(ret)\n",
        "weights\n"
      ]
    }
  ],
  "metadata": {
    "language_info": {
      "name": "python"
    }
  },
  "nbformat": 4,
  "nbformat_minor": 2
}
